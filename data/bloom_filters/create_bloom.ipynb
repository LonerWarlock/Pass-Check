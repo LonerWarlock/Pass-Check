{
  "cells": [
    {
      "cell_type": "code",
      "execution_count": 2,
      "metadata": {
        "colab": {
          "base_uri": "https://localhost:8080/"
        },
        "id": "Loh5W-wcltas",
        "outputId": "aea1c8c7-0bed-4028-f7f2-bf74e4e743d8"
      },
      "outputs": [
        {
          "name": "stdout",
          "output_type": "stream",
          "text": [
            "Collecting bloom_filter2\n",
            "  Downloading bloom-filter2-2.0.0-1.tar.gz (6.6 kB)\n",
            "  Preparing metadata (setup.py) ... \u001b[?25l\u001b[?25hdone\n",
            "Discarding \u001b[4;34mhttps://files.pythonhosted.org/packages/2b/5d/8de4a849ebe212217e6d8f4798a6918d4035e741c44730da81272f170b47/bloom-filter2-2.0.0-1.tar.gz (from https://pypi.org/simple/bloom-filter2/)\u001b[0m: \u001b[33mRequested bloom_filter2 from https://files.pythonhosted.org/packages/2b/5d/8de4a849ebe212217e6d8f4798a6918d4035e741c44730da81272f170b47/bloom-filter2-2.0.0-1.tar.gz has inconsistent version: expected '2.0.0.post1', but metadata has '2.0.0'\u001b[0m\n",
            "  Downloading bloom_filter2-2.0.0-py3-none-any.whl.metadata (1.6 kB)\n",
            "Requirement already satisfied: joblib in /usr/local/lib/python3.11/dist-packages (1.5.1)\n",
            "Downloading bloom_filter2-2.0.0-py3-none-any.whl (6.8 kB)\n",
            "Installing collected packages: bloom_filter2\n",
            "Successfully installed bloom_filter2-2.0.0\n"
          ]
        }
      ],
      "source": [
        "!pip install bloom_filter2 joblib"
      ]
    },
    {
      "cell_type": "code",
      "execution_count": 30,
      "metadata": {
        "id": "BaJmc--XgTGJ"
      },
      "outputs": [],
      "source": [
        "# create_bloom.py\n",
        "from bloom_filter2 import BloomFilter\n",
        "import joblib"
      ]
    },
    {
      "cell_type": "code",
      "execution_count": 33,
      "metadata": {
        "id": "uGlyHC9E3i12"
      },
      "outputs": [],
      "source": [
        "BATCH_SIZE = 1_000_000\n",
        "bloom = BloomFilter(max_elements=14_500_000, error_rate=0.001)\n",
        "\n",
        "def process_batch(batch):\n",
        "    for pwd in batch:\n",
        "        bloom.add(pwd)"
      ]
    },
    {
      "cell_type": "code",
      "execution_count": 35,
      "metadata": {
        "colab": {
          "base_uri": "https://localhost:8080/"
        },
        "id": "-NMJ51vz2vUN",
        "outputId": "b93af496-57ed-440e-8f50-70e11099aa64"
      },
      "outputs": [
        {
          "name": "stdout",
          "output_type": "stream",
          "text": [
            "✅ Processed 1000000 passwords\n",
            "✅ Processed 2000000 passwords\n",
            "✅ Processed 3000000 passwords\n",
            "✅ Processed 4000000 passwords\n",
            "✅ Processed 5000000 passwords\n",
            "✅ Processed 6000000 passwords\n",
            "✅ Final batch: Total passwords processed: 6231332\n"
          ]
        }
      ],
      "source": [
        "with open(\"rockyou.txt\", encoding=\"latin-1\") as f:\n",
        "    batch = []\n",
        "    total = 0\n",
        "    for line in f:\n",
        "        pwd = line\n",
        "        if pwd:\n",
        "            batch.append(pwd)\n",
        "            total += 1\n",
        "        if len(batch) >= BATCH_SIZE:\n",
        "            process_batch(batch)\n",
        "            print(f\"✅ Processed {total} passwords\")\n",
        "            batch.clear()\n",
        "\n",
        "    # Process remaining passwords\n",
        "    if batch:\n",
        "        process_batch(batch)\n",
        "        print(f\"✅ Final batch: Total passwords processed: {total}\")"
      ]
    },
    {
      "cell_type": "code",
      "execution_count": null,
      "metadata": {
        "id": "ho4a0HDO7-Uj"
      },
      "outputs": [],
      "source": [
        "# Save the bloom filter\n",
        "joblib.dump(bloom, \"leaked_passwords.bloom\")\n",
        "print(\"✅ Bloom filter saved!\")"
      ]
    }
  ],
  "metadata": {
    "colab": {
      "provenance": []
    },
    "kernelspec": {
      "display_name": "Python 3",
      "name": "python3"
    },
    "language_info": {
      "name": "python"
    }
  },
  "nbformat": 4,
  "nbformat_minor": 0
}
